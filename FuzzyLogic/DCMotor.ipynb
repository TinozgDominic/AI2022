{
 "cells": [
  {
   "cell_type": "code",
   "execution_count": null,
   "metadata": {},
   "outputs": [],
   "source": [
    "import skfuzzy as fuzz\n",
    "from skfuzzy import control as ctrl\n",
    "import numpy as np\n",
    "import matplotlib.pyplot as plt"
   ]
  },
  {
   "cell_type": "code",
   "execution_count": null,
   "metadata": {},
   "outputs": [],
   "source": [
    "\n",
    "# Input\n",
    "e  = ctrl.Antecedent(np.linspace(-100, 100, 1000), 'e')\n",
    "de = ctrl.Antecedent(np.linspace(-100, 100, 1000), 'de')\n",
    "\n",
    "# Output \n",
    "u = ctrl.Consequent(np.linspace(-24, 24, 1000), 'u')\n",
    "\n",
    "# Membership functions\n",
    "e['LN'] = fuzz.trimf(e.universe,[-100, -100, -50])\n",
    "e['SN'] = fuzz.trimf(e.universe,[-100, -50, 0])\n",
    "e['ZO'] = fuzz.trimf(e.universe,[-50, 0, 50])\n",
    "e['SP'] = fuzz.trimf(e.universe,[0, 50, 100])\n",
    "e['LP'] = fuzz.trimf(e.universe,[50, 100, 100])\n",
    "\n",
    "de['LN'] = fuzz.trimf(de.universe,[-100, -100, -50])\n",
    "de['SN'] = fuzz.trimf(de.universe,[-100, -50, 0])\n",
    "de['ZO'] = fuzz.trimf(de.universe,[-50, 0, 50])\n",
    "de['SP'] = fuzz.trimf(de.universe,[0, 50, 100])\n",
    "de['LP'] = fuzz.trimf(de.universe,[50, 100, 100])\n",
    "\n",
    "u['LN'] = fuzz.trimf(u.universe,[-24, -24, -12])\n",
    "u['SN'] = fuzz.trimf(u.universe,[-24, -12, 0])\n",
    "u['ZO'] = fuzz.trimf(u.universe,[-12, 0, 12])\n",
    "u['SP'] = fuzz.trimf(u.universe,[0, 12, 24])\n",
    "u['LP'] = fuzz.trimf(u.universe,[12, 24, 24])\n",
    "\n",
    "# Rules\n",
    "rule = []\n",
    "\n",
    "\n",
    "rule.append(ctrl.Rule(e['LN'] & de['LN'], u['LP']))\n",
    "rule.append(ctrl.Rule(e['LN'] & de['SN'], u['LP']))\n",
    "rule.append(ctrl.Rule(e['LN'] & de['ZO'], u['SP']))\n",
    "rule.append(ctrl.Rule(e['LN'] & de['SP'], u['SP']))\n",
    "rule.append(ctrl.Rule(e['LN'] & de['LP'], u['ZO']))\n",
    "\n",
    "rule.append(ctrl.Rule(e['SN'] & de['LN'], u['LP']))\n",
    "rule.append(ctrl.Rule(e['SN'] & de['SN'], u['SP']))\n",
    "rule.append(ctrl.Rule(e['SN'] & de['ZO'], u['SP']))\n",
    "rule.append(ctrl.Rule(e['SN'] & de['SP'], u['ZO']))\n",
    "rule.append(ctrl.Rule(e['SN'] & de['LP'], u['SN']))\n",
    "\n",
    "\n",
    "rule.append(ctrl.Rule(e['ZO'] & de['LN'], u['SP']))\n",
    "rule.append(ctrl.Rule(e['ZO'] & de['SN'], u['SP']))\n",
    "rule.append(ctrl.Rule(e['ZO'] & de['ZO'], u['ZO']))\n",
    "rule.append(ctrl.Rule(e['ZO'] & de['SP'], u['SN']))\n",
    "rule.append(ctrl.Rule(e['ZO'] & de['LP'], u['SN']))\n",
    "\n",
    "rule.append(ctrl.Rule(e['SP'] & de['LN'], u['ZO']))\n",
    "rule.append(ctrl.Rule(e['SP'] & de['SN'], u['ZO']))\n",
    "rule.append(ctrl.Rule(e['SP'] & de['ZO'], u['SN']))\n",
    "rule.append(ctrl.Rule(e['SP'] & de['SP'], u['SN']))\n",
    "rule.append(ctrl.Rule(e['SP'] & de['LP'], u['LN']))\n",
    "\n",
    "rule.append(ctrl.Rule(e['LP'] & de['LN'], u['SN']))\n",
    "rule.append(ctrl.Rule(e['LP'] & de['SN'], u['SN']))\n",
    "rule.append(ctrl.Rule(e['LP'] & de['ZO'], u['SN']))\n",
    "rule.append(ctrl.Rule(e['LP'] & de['SP'], u['LN']))\n",
    "rule.append(ctrl.Rule(e['LP'] & de['LP'], u['LN']))\n",
    "\n",
    "\n",
    "#Control system\n",
    "voltage_control = ctrl.ControlSystem(rule)\n",
    "voltage_simulation = ctrl.ControlSystemSimulation(voltage_control)\n",
    "\n",
    "e.view()\n",
    "de.view()\n",
    "u.view()\n",
    "\n",
    "\n"
   ]
  },
  {
   "cell_type": "code",
   "execution_count": null,
   "metadata": {},
   "outputs": [],
   "source": [
    "# Compute\n",
    "voltage_simulation.input['e'] = -50\n",
    "voltage_simulation.input['de'] = -50\n",
    "\n",
    "voltage_simulation.compute()\n",
    "\n",
    "print(voltage_simulation.output['u'])\n",
    "\n",
    "# Voltage\n",
    "u.view(sim = voltage_simulation)"
   ]
  }
 ],
 "metadata": {
  "kernelspec": {
   "display_name": "Python 3.10.4 ('AI')",
   "language": "python",
   "name": "python3"
  },
  "language_info": {
   "codemirror_mode": {
    "name": "ipython",
    "version": 3
   },
   "file_extension": ".py",
   "mimetype": "text/x-python",
   "name": "python",
   "nbconvert_exporter": "python",
   "pygments_lexer": "ipython3",
   "version": "3.10.4"
  },
  "orig_nbformat": 4,
  "vscode": {
   "interpreter": {
    "hash": "c0a68c36a32e4da8c374ed0f01fdbf656b9f9bb1ead434e424b3fc388a894c1c"
   }
  }
 },
 "nbformat": 4,
 "nbformat_minor": 2
}
