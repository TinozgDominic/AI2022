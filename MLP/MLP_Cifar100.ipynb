{
  "nbformat": 4,
  "nbformat_minor": 0,
  "metadata": {
    "colab": {
      "provenance": [],
      "collapsed_sections": [],
      "authorship_tag": "ABX9TyM4ZPvUW0QaxC3+ivJWH6OZ",
      "include_colab_link": true
    },
    "kernelspec": {
      "name": "python3",
      "display_name": "Python 3"
    },
    "language_info": {
      "name": "python"
    }
  },
  "cells": [
    {
      "cell_type": "markdown",
      "metadata": {
        "id": "view-in-github",
        "colab_type": "text"
      },
      "source": [
        "<a href=\"https://colab.research.google.com/github/TinozgDominic/AI2022/blob/main/MLP/MLP_Cifar100.ipynb\" target=\"_parent\"><img src=\"https://colab.research.google.com/assets/colab-badge.svg\" alt=\"Open In Colab\"/></a>"
      ]
    },
    {
      "cell_type": "code",
      "execution_count": null,
      "metadata": {
        "id": "_gz5ABHNJsg9"
      },
      "outputs": [],
      "source": [
        "import tensorflow as tf\n",
        "from keras import models\n",
        "from keras import layers\n",
        "from keras.models import Sequential\n",
        "from keras.layers import Dense, Activation, Flatten"
      ]
    },
    {
      "cell_type": "code",
      "source": [
        "from keras.datasets import cifar100"
      ],
      "metadata": {
        "id": "cbZvK1ShJzwW"
      },
      "execution_count": null,
      "outputs": []
    },
    {
      "cell_type": "code",
      "source": [
        "(x_train, y_train), (x_test, y_test) = cifar100.load_data()\n",
        "\n",
        "print(f'Input shape: {x_train[0].shape}')\n",
        "print(f'Output shape: {y_train[0].shape}')\n",
        "print(f'Train size: {len(x_train)}')\n",
        "print(f'Test size: {len(x_test)}')"
      ],
      "metadata": {
        "colab": {
          "base_uri": "https://localhost:8080/"
        },
        "id": "jhadwA4qJ1K7",
        "outputId": "fb8e6d89-1c06-4244-99f2-3c4d05dd980d"
      },
      "execution_count": null,
      "outputs": [
        {
          "output_type": "stream",
          "name": "stdout",
          "text": [
            "Input shape: (32, 32, 3)\n",
            "Output shape: (1,)\n",
            "Train size: 50000\n",
            "Test size: 10000\n"
          ]
        }
      ]
    },
    {
      "cell_type": "code",
      "source": [
        "x_train = tf.image.rgb_to_grayscale(x_train)\n",
        "x_test = tf.image.rgb_to_grayscale(x_test)\n",
        "\n",
        "print(f'Input shape: {x_train[0].shape}')"
      ],
      "metadata": {
        "colab": {
          "base_uri": "https://localhost:8080/"
        },
        "id": "VNitP3r5J9Qi",
        "outputId": "2b24a024-20be-452f-d723-407d04436c1c"
      },
      "execution_count": null,
      "outputs": [
        {
          "output_type": "stream",
          "name": "stdout",
          "text": [
            "Input shape: (32, 32, 1)\n"
          ]
        }
      ]
    },
    {
      "cell_type": "code",
      "source": [
        "from keras.utils import to_categorical\n",
        "\n",
        "y_train = to_categorical(y_train)\n",
        "y_test = to_categorical(y_test)\n",
        "\n",
        "print(f'Output shape: {y_train[0].shape}')"
      ],
      "metadata": {
        "colab": {
          "base_uri": "https://localhost:8080/"
        },
        "id": "CUWD8FpLJ32s",
        "outputId": "fa379fd9-d6ef-44cd-c6d5-3cfffc70f0e9"
      },
      "execution_count": null,
      "outputs": [
        {
          "output_type": "stream",
          "name": "stdout",
          "text": [
            "Output shape: (100,)\n"
          ]
        }
      ]
    },
    {
      "cell_type": "code",
      "source": [
        "model = models.Sequential()\n",
        "\n",
        "model.add(Flatten(input_shape = [32,32,1]))\n",
        "model.add(layers.Dense(1000, activation = 'relu'))\n",
        "model.add(layers.Dense(1000, activation = 'relu'))\n",
        "model.add(layers.Dense(1000, activation = 'relu'))\n",
        "model.add(layers.Dense(100, activation = 'softmax'))\n",
        "\n",
        "model.summary()\n",
        "\n"
      ],
      "metadata": {
        "colab": {
          "base_uri": "https://localhost:8080/"
        },
        "id": "EhrYTtbIJ7O0",
        "outputId": "6f5e95b7-7ee4-4f94-897f-7a1715ef023b"
      },
      "execution_count": null,
      "outputs": [
        {
          "output_type": "stream",
          "name": "stdout",
          "text": [
            "Model: \"sequential_8\"\n",
            "_________________________________________________________________\n",
            " Layer (type)                Output Shape              Param #   \n",
            "=================================================================\n",
            " flatten_8 (Flatten)         (None, 1024)              0         \n",
            "                                                                 \n",
            " dense_30 (Dense)            (None, 1000)              1025000   \n",
            "                                                                 \n",
            " dense_31 (Dense)            (None, 1000)              1001000   \n",
            "                                                                 \n",
            " dense_32 (Dense)            (None, 1000)              1001000   \n",
            "                                                                 \n",
            " dense_33 (Dense)            (None, 100)               100100    \n",
            "                                                                 \n",
            "=================================================================\n",
            "Total params: 3,127,100\n",
            "Trainable params: 3,127,100\n",
            "Non-trainable params: 0\n",
            "_________________________________________________________________\n"
          ]
        }
      ]
    },
    {
      "cell_type": "code",
      "source": [
        "model.compile(optimizer = 'adam', loss = 'categorical_crossentropy', metrics = 'accuracy')"
      ],
      "metadata": {
        "id": "3glDKmXPLKkA"
      },
      "execution_count": null,
      "outputs": []
    },
    {
      "cell_type": "code",
      "source": [
        "from keras.callbacks import EarlyStopping, ModelCheckpoint, ReduceLROnPlateau, Callback\n",
        "\n",
        "callbacks = [Callback(), \n",
        "            EarlyStopping(patience=21, verbose=1),\n",
        "            ReduceLROnPlateau(patience=5, verbose=1),\n",
        "            ModelCheckpoint('MLP_Cifar100.h5', verbose=1, save_best_only=True)]"
      ],
      "metadata": {
        "id": "fW2OEqyFKJ2e"
      },
      "execution_count": null,
      "outputs": []
    },
    {
      "cell_type": "code",
      "source": [
        "model.fit(x_train, y_train, \n",
        "          epochs = 100, \n",
        "          batch_size = 200,\n",
        "          validation_data = (x_test, y_test), \n",
        "          callbacks = callbacks)"
      ],
      "metadata": {
        "colab": {
          "base_uri": "https://localhost:8080/"
        },
        "id": "ZvD_t5GqKMh6",
        "outputId": "1c9155a0-887f-42e4-fa58-ee8ca473961e"
      },
      "execution_count": null,
      "outputs": [
        {
          "output_type": "stream",
          "name": "stdout",
          "text": [
            "Epoch 1/100\n",
            "250/250 [==============================] - ETA: 0s - loss: 21.8585 - accuracy: 0.0108\n",
            "Epoch 1: val_loss improved from inf to 4.59074, saving model to MLP_Cifar100.h5\n",
            "250/250 [==============================] - 24s 95ms/step - loss: 21.8585 - accuracy: 0.0108 - val_loss: 4.5907 - val_accuracy: 0.0130 - lr: 0.0010\n",
            "Epoch 2/100\n",
            "250/250 [==============================] - ETA: 0s - loss: 4.5682 - accuracy: 0.0172\n",
            "Epoch 2: val_loss improved from 4.59074 to 4.55232, saving model to MLP_Cifar100.h5\n",
            "250/250 [==============================] - 23s 91ms/step - loss: 4.5682 - accuracy: 0.0172 - val_loss: 4.5523 - val_accuracy: 0.0218 - lr: 0.0010\n",
            "Epoch 3/100\n",
            "250/250 [==============================] - ETA: 0s - loss: 4.4919 - accuracy: 0.0282\n",
            "Epoch 3: val_loss improved from 4.55232 to 4.47037, saving model to MLP_Cifar100.h5\n",
            "250/250 [==============================] - 23s 92ms/step - loss: 4.4919 - accuracy: 0.0282 - val_loss: 4.4704 - val_accuracy: 0.0304 - lr: 0.0010\n",
            "Epoch 4/100\n",
            "250/250 [==============================] - ETA: 0s - loss: 4.4225 - accuracy: 0.0361\n",
            "Epoch 4: val_loss improved from 4.47037 to 4.40894, saving model to MLP_Cifar100.h5\n",
            "250/250 [==============================] - 23s 92ms/step - loss: 4.4225 - accuracy: 0.0361 - val_loss: 4.4089 - val_accuracy: 0.0377 - lr: 0.0010\n",
            "Epoch 5/100\n",
            "250/250 [==============================] - ETA: 0s - loss: 4.3936 - accuracy: 0.0376\n",
            "Epoch 5: val_loss did not improve from 4.40894\n",
            "250/250 [==============================] - 23s 91ms/step - loss: 4.3936 - accuracy: 0.0376 - val_loss: 4.4153 - val_accuracy: 0.0380 - lr: 0.0010\n",
            "Epoch 6/100\n",
            "250/250 [==============================] - ETA: 0s - loss: 4.3475 - accuracy: 0.0435\n",
            "Epoch 6: val_loss improved from 4.40894 to 4.37082, saving model to MLP_Cifar100.h5\n",
            "250/250 [==============================] - 24s 96ms/step - loss: 4.3475 - accuracy: 0.0435 - val_loss: 4.3708 - val_accuracy: 0.0410 - lr: 0.0010\n",
            "Epoch 7/100\n",
            "250/250 [==============================] - ETA: 0s - loss: 4.3129 - accuracy: 0.0497\n",
            "Epoch 7: val_loss improved from 4.37082 to 4.36746, saving model to MLP_Cifar100.h5\n",
            "250/250 [==============================] - 23s 91ms/step - loss: 4.3129 - accuracy: 0.0497 - val_loss: 4.3675 - val_accuracy: 0.0452 - lr: 0.0010\n",
            "Epoch 8/100\n",
            "250/250 [==============================] - ETA: 0s - loss: 4.2890 - accuracy: 0.0550\n",
            "Epoch 8: val_loss improved from 4.36746 to 4.32130, saving model to MLP_Cifar100.h5\n",
            "250/250 [==============================] - 23s 92ms/step - loss: 4.2890 - accuracy: 0.0550 - val_loss: 4.3213 - val_accuracy: 0.0537 - lr: 0.0010\n",
            "Epoch 9/100\n",
            "250/250 [==============================] - ETA: 0s - loss: 4.2554 - accuracy: 0.0600\n",
            "Epoch 9: val_loss did not improve from 4.32130\n",
            "250/250 [==============================] - 23s 92ms/step - loss: 4.2554 - accuracy: 0.0600 - val_loss: 4.3490 - val_accuracy: 0.0514 - lr: 0.0010\n",
            "Epoch 10/100\n",
            "250/250 [==============================] - ETA: 0s - loss: 4.2411 - accuracy: 0.0619\n",
            "Epoch 10: val_loss improved from 4.32130 to 4.26592, saving model to MLP_Cifar100.h5\n",
            "250/250 [==============================] - 23s 93ms/step - loss: 4.2411 - accuracy: 0.0619 - val_loss: 4.2659 - val_accuracy: 0.0625 - lr: 0.0010\n",
            "Epoch 11/100\n",
            "250/250 [==============================] - ETA: 0s - loss: 4.2089 - accuracy: 0.0663\n",
            "Epoch 11: val_loss improved from 4.26592 to 4.22599, saving model to MLP_Cifar100.h5\n",
            "250/250 [==============================] - 24s 94ms/step - loss: 4.2089 - accuracy: 0.0663 - val_loss: 4.2260 - val_accuracy: 0.0668 - lr: 0.0010\n",
            "Epoch 12/100\n",
            "250/250 [==============================] - ETA: 0s - loss: 4.1512 - accuracy: 0.0776\n",
            "Epoch 12: val_loss improved from 4.22599 to 4.21780, saving model to MLP_Cifar100.h5\n",
            "250/250 [==============================] - 24s 97ms/step - loss: 4.1512 - accuracy: 0.0776 - val_loss: 4.2178 - val_accuracy: 0.0693 - lr: 0.0010\n",
            "Epoch 13/100\n",
            "250/250 [==============================] - ETA: 0s - loss: 4.1360 - accuracy: 0.0797\n",
            "Epoch 13: val_loss did not improve from 4.21780\n",
            "250/250 [==============================] - 25s 99ms/step - loss: 4.1360 - accuracy: 0.0797 - val_loss: 4.2675 - val_accuracy: 0.0600 - lr: 0.0010\n",
            "Epoch 14/100\n",
            "250/250 [==============================] - ETA: 0s - loss: 4.1051 - accuracy: 0.0828\n",
            "Epoch 14: val_loss improved from 4.21780 to 4.16814, saving model to MLP_Cifar100.h5\n",
            "250/250 [==============================] - 23s 93ms/step - loss: 4.1051 - accuracy: 0.0828 - val_loss: 4.1681 - val_accuracy: 0.0757 - lr: 0.0010\n",
            "Epoch 15/100\n",
            "250/250 [==============================] - ETA: 0s - loss: 4.0844 - accuracy: 0.0869\n",
            "Epoch 15: val_loss improved from 4.16814 to 4.14256, saving model to MLP_Cifar100.h5\n",
            "250/250 [==============================] - 23s 91ms/step - loss: 4.0844 - accuracy: 0.0869 - val_loss: 4.1426 - val_accuracy: 0.0858 - lr: 0.0010\n",
            "Epoch 16/100\n",
            "250/250 [==============================] - ETA: 0s - loss: 4.0507 - accuracy: 0.0919\n",
            "Epoch 16: val_loss improved from 4.14256 to 4.12045, saving model to MLP_Cifar100.h5\n",
            "250/250 [==============================] - 23s 92ms/step - loss: 4.0507 - accuracy: 0.0919 - val_loss: 4.1205 - val_accuracy: 0.0841 - lr: 0.0010\n",
            "Epoch 17/100\n",
            "250/250 [==============================] - ETA: 0s - loss: 4.0089 - accuracy: 0.0970\n",
            "Epoch 17: val_loss improved from 4.12045 to 4.09651, saving model to MLP_Cifar100.h5\n",
            "250/250 [==============================] - 23s 93ms/step - loss: 4.0089 - accuracy: 0.0970 - val_loss: 4.0965 - val_accuracy: 0.0960 - lr: 0.0010\n",
            "Epoch 18/100\n",
            "250/250 [==============================] - ETA: 0s - loss: 3.9799 - accuracy: 0.1032\n",
            "Epoch 18: val_loss did not improve from 4.09651\n",
            "250/250 [==============================] - 23s 91ms/step - loss: 3.9799 - accuracy: 0.1032 - val_loss: 4.1099 - val_accuracy: 0.0946 - lr: 0.0010\n",
            "Epoch 19/100\n",
            "250/250 [==============================] - ETA: 0s - loss: 3.9537 - accuracy: 0.1084\n",
            "Epoch 19: val_loss improved from 4.09651 to 4.09255, saving model to MLP_Cifar100.h5\n",
            "250/250 [==============================] - 23s 93ms/step - loss: 3.9537 - accuracy: 0.1084 - val_loss: 4.0925 - val_accuracy: 0.0950 - lr: 0.0010\n",
            "Epoch 20/100\n",
            "250/250 [==============================] - ETA: 0s - loss: 3.9329 - accuracy: 0.1086\n",
            "Epoch 20: val_loss improved from 4.09255 to 4.04487, saving model to MLP_Cifar100.h5\n",
            "250/250 [==============================] - 24s 95ms/step - loss: 3.9329 - accuracy: 0.1086 - val_loss: 4.0449 - val_accuracy: 0.1018 - lr: 0.0010\n",
            "Epoch 21/100\n",
            "250/250 [==============================] - ETA: 0s - loss: 3.8938 - accuracy: 0.1161\n",
            "Epoch 21: val_loss did not improve from 4.04487\n",
            "250/250 [==============================] - 23s 91ms/step - loss: 3.8938 - accuracy: 0.1161 - val_loss: 4.0891 - val_accuracy: 0.0974 - lr: 0.0010\n",
            "Epoch 22/100\n",
            "250/250 [==============================] - ETA: 0s - loss: 3.8952 - accuracy: 0.1168\n",
            "Epoch 22: val_loss did not improve from 4.04487\n",
            "250/250 [==============================] - 23s 92ms/step - loss: 3.8952 - accuracy: 0.1168 - val_loss: 4.0658 - val_accuracy: 0.1030 - lr: 0.0010\n",
            "Epoch 23/100\n",
            "250/250 [==============================] - ETA: 0s - loss: 3.8578 - accuracy: 0.1232\n",
            "Epoch 23: val_loss did not improve from 4.04487\n",
            "250/250 [==============================] - 23s 92ms/step - loss: 3.8578 - accuracy: 0.1232 - val_loss: 4.0790 - val_accuracy: 0.0968 - lr: 0.0010\n",
            "Epoch 24/100\n",
            "250/250 [==============================] - ETA: 0s - loss: 3.8401 - accuracy: 0.1235\n",
            "Epoch 24: val_loss did not improve from 4.04487\n",
            "250/250 [==============================] - 23s 91ms/step - loss: 3.8401 - accuracy: 0.1235 - val_loss: 4.0756 - val_accuracy: 0.0994 - lr: 0.0010\n",
            "Epoch 25/100\n",
            "250/250 [==============================] - ETA: 0s - loss: 3.8036 - accuracy: 0.1311\n",
            "Epoch 25: ReduceLROnPlateau reducing learning rate to 0.00010000000474974513.\n",
            "\n",
            "Epoch 25: val_loss did not improve from 4.04487\n",
            "250/250 [==============================] - 23s 90ms/step - loss: 3.8036 - accuracy: 0.1311 - val_loss: 4.1185 - val_accuracy: 0.1041 - lr: 0.0010\n",
            "Epoch 26/100\n",
            "250/250 [==============================] - ETA: 0s - loss: 3.6143 - accuracy: 0.1590\n",
            "Epoch 26: val_loss improved from 4.04487 to 4.01610, saving model to MLP_Cifar100.h5\n",
            "250/250 [==============================] - 23s 91ms/step - loss: 3.6143 - accuracy: 0.1590 - val_loss: 4.0161 - val_accuracy: 0.1220 - lr: 1.0000e-04\n",
            "Epoch 27/100\n",
            "250/250 [==============================] - ETA: 0s - loss: 3.5427 - accuracy: 0.1729\n",
            "Epoch 27: val_loss did not improve from 4.01610\n",
            "250/250 [==============================] - 28s 113ms/step - loss: 3.5427 - accuracy: 0.1729 - val_loss: 4.0316 - val_accuracy: 0.1214 - lr: 1.0000e-04\n",
            "Epoch 28/100\n",
            "250/250 [==============================] - ETA: 0s - loss: 3.5036 - accuracy: 0.1800\n",
            "Epoch 28: val_loss did not improve from 4.01610\n",
            "250/250 [==============================] - 23s 92ms/step - loss: 3.5036 - accuracy: 0.1800 - val_loss: 4.0476 - val_accuracy: 0.1238 - lr: 1.0000e-04\n",
            "Epoch 29/100\n",
            "250/250 [==============================] - ETA: 0s - loss: 3.4723 - accuracy: 0.1873\n",
            "Epoch 29: val_loss did not improve from 4.01610\n",
            "250/250 [==============================] - 23s 91ms/step - loss: 3.4723 - accuracy: 0.1873 - val_loss: 4.0608 - val_accuracy: 0.1253 - lr: 1.0000e-04\n",
            "Epoch 30/100\n",
            "250/250 [==============================] - ETA: 0s - loss: 3.4438 - accuracy: 0.1922\n",
            "Epoch 30: val_loss did not improve from 4.01610\n",
            "250/250 [==============================] - 23s 90ms/step - loss: 3.4438 - accuracy: 0.1922 - val_loss: 4.0694 - val_accuracy: 0.1252 - lr: 1.0000e-04\n",
            "Epoch 31/100\n",
            "250/250 [==============================] - ETA: 0s - loss: 3.4154 - accuracy: 0.1958\n",
            "Epoch 31: ReduceLROnPlateau reducing learning rate to 1.0000000474974514e-05.\n",
            "\n",
            "Epoch 31: val_loss did not improve from 4.01610\n",
            "250/250 [==============================] - 22s 90ms/step - loss: 3.4154 - accuracy: 0.1958 - val_loss: 4.0896 - val_accuracy: 0.1240 - lr: 1.0000e-04\n",
            "Epoch 32/100\n",
            "250/250 [==============================] - ETA: 0s - loss: 3.3600 - accuracy: 0.2084\n",
            "Epoch 32: val_loss did not improve from 4.01610\n",
            "250/250 [==============================] - 23s 91ms/step - loss: 3.3600 - accuracy: 0.2084 - val_loss: 4.0893 - val_accuracy: 0.1254 - lr: 1.0000e-05\n",
            "Epoch 33/100\n",
            "250/250 [==============================] - ETA: 0s - loss: 3.3533 - accuracy: 0.2103\n",
            "Epoch 33: val_loss did not improve from 4.01610\n",
            "250/250 [==============================] - 23s 91ms/step - loss: 3.3533 - accuracy: 0.2103 - val_loss: 4.0890 - val_accuracy: 0.1263 - lr: 1.0000e-05\n",
            "Epoch 34/100\n",
            "250/250 [==============================] - ETA: 0s - loss: 3.3490 - accuracy: 0.2104\n",
            "Epoch 34: val_loss did not improve from 4.01610\n",
            "250/250 [==============================] - 22s 90ms/step - loss: 3.3490 - accuracy: 0.2104 - val_loss: 4.0949 - val_accuracy: 0.1261 - lr: 1.0000e-05\n",
            "Epoch 35/100\n",
            "250/250 [==============================] - ETA: 0s - loss: 3.3450 - accuracy: 0.2114\n",
            "Epoch 35: val_loss did not improve from 4.01610\n",
            "250/250 [==============================] - 24s 95ms/step - loss: 3.3450 - accuracy: 0.2114 - val_loss: 4.0981 - val_accuracy: 0.1258 - lr: 1.0000e-05\n",
            "Epoch 36/100\n",
            "250/250 [==============================] - ETA: 0s - loss: 3.3411 - accuracy: 0.2123\n",
            "Epoch 36: ReduceLROnPlateau reducing learning rate to 1.0000000656873453e-06.\n",
            "\n",
            "Epoch 36: val_loss did not improve from 4.01610\n",
            "250/250 [==============================] - 23s 92ms/step - loss: 3.3411 - accuracy: 0.2123 - val_loss: 4.0998 - val_accuracy: 0.1255 - lr: 1.0000e-05\n",
            "Epoch 37/100\n",
            "250/250 [==============================] - ETA: 0s - loss: 3.3343 - accuracy: 0.2138\n",
            "Epoch 37: val_loss did not improve from 4.01610\n",
            "250/250 [==============================] - 23s 91ms/step - loss: 3.3343 - accuracy: 0.2138 - val_loss: 4.0994 - val_accuracy: 0.1258 - lr: 1.0000e-06\n",
            "Epoch 38/100\n",
            "250/250 [==============================] - ETA: 0s - loss: 3.3336 - accuracy: 0.2140\n",
            "Epoch 38: val_loss did not improve from 4.01610\n",
            "250/250 [==============================] - 23s 93ms/step - loss: 3.3336 - accuracy: 0.2140 - val_loss: 4.0998 - val_accuracy: 0.1261 - lr: 1.0000e-06\n",
            "Epoch 39/100\n",
            "250/250 [==============================] - ETA: 0s - loss: 3.3331 - accuracy: 0.2140\n",
            "Epoch 39: val_loss did not improve from 4.01610\n",
            "250/250 [==============================] - 23s 92ms/step - loss: 3.3331 - accuracy: 0.2140 - val_loss: 4.1000 - val_accuracy: 0.1260 - lr: 1.0000e-06\n",
            "Epoch 40/100\n",
            "250/250 [==============================] - ETA: 0s - loss: 3.3327 - accuracy: 0.2142\n",
            "Epoch 40: val_loss did not improve from 4.01610\n",
            "250/250 [==============================] - 23s 92ms/step - loss: 3.3327 - accuracy: 0.2142 - val_loss: 4.1003 - val_accuracy: 0.1258 - lr: 1.0000e-06\n",
            "Epoch 41/100\n",
            "250/250 [==============================] - ETA: 0s - loss: 3.3323 - accuracy: 0.2143\n",
            "Epoch 41: ReduceLROnPlateau reducing learning rate to 1.0000001111620805e-07.\n",
            "\n",
            "Epoch 41: val_loss did not improve from 4.01610\n",
            "250/250 [==============================] - 23s 92ms/step - loss: 3.3323 - accuracy: 0.2143 - val_loss: 4.1002 - val_accuracy: 0.1260 - lr: 1.0000e-06\n",
            "Epoch 42/100\n",
            "250/250 [==============================] - ETA: 0s - loss: 3.3315 - accuracy: 0.2146\n",
            "Epoch 42: val_loss did not improve from 4.01610\n",
            "250/250 [==============================] - 24s 95ms/step - loss: 3.3315 - accuracy: 0.2146 - val_loss: 4.1004 - val_accuracy: 0.1260 - lr: 1.0000e-07\n",
            "Epoch 43/100\n",
            "250/250 [==============================] - ETA: 0s - loss: 3.3315 - accuracy: 0.2145\n",
            "Epoch 43: val_loss did not improve from 4.01610\n",
            "250/250 [==============================] - 23s 92ms/step - loss: 3.3315 - accuracy: 0.2145 - val_loss: 4.1005 - val_accuracy: 0.1261 - lr: 1.0000e-07\n",
            "Epoch 44/100\n",
            "250/250 [==============================] - ETA: 0s - loss: 3.3314 - accuracy: 0.2146\n",
            "Epoch 44: val_loss did not improve from 4.01610\n",
            "250/250 [==============================] - 23s 90ms/step - loss: 3.3314 - accuracy: 0.2146 - val_loss: 4.1006 - val_accuracy: 0.1261 - lr: 1.0000e-07\n",
            "Epoch 45/100\n",
            "250/250 [==============================] - ETA: 0s - loss: 3.3314 - accuracy: 0.2146\n",
            "Epoch 45: val_loss did not improve from 4.01610\n",
            "250/250 [==============================] - 23s 91ms/step - loss: 3.3314 - accuracy: 0.2146 - val_loss: 4.1007 - val_accuracy: 0.1261 - lr: 1.0000e-07\n",
            "Epoch 46/100\n",
            "250/250 [==============================] - ETA: 0s - loss: 3.3313 - accuracy: 0.2145\n",
            "Epoch 46: ReduceLROnPlateau reducing learning rate to 1.000000082740371e-08.\n",
            "\n",
            "Epoch 46: val_loss did not improve from 4.01610\n",
            "250/250 [==============================] - 23s 90ms/step - loss: 3.3313 - accuracy: 0.2145 - val_loss: 4.1007 - val_accuracy: 0.1261 - lr: 1.0000e-07\n",
            "Epoch 47/100\n",
            "250/250 [==============================] - ETA: 0s - loss: 3.3312 - accuracy: 0.2145\n",
            "Epoch 47: val_loss did not improve from 4.01610\n",
            "250/250 [==============================] - 22s 89ms/step - loss: 3.3312 - accuracy: 0.2145 - val_loss: 4.1007 - val_accuracy: 0.1261 - lr: 1.0000e-08\n",
            "Epoch 47: early stopping\n"
          ]
        },
        {
          "output_type": "execute_result",
          "data": {
            "text/plain": [
              "<keras.callbacks.History at 0x7f41d1e4fb10>"
            ]
          },
          "metadata": {},
          "execution_count": 67
        }
      ]
    },
    {
      "cell_type": "code",
      "source": [
        "import numpy as np\n",
        "import matplotlib.pyplot as plt\n",
        "import random\n",
        "\n",
        "\n",
        "\n",
        "print('Predict:', np.argmax(model.predict(x_test[show])))\n",
        "print('True mask:' ,np.argmax(y_test[show]))\n",
        "\n",
        "plt.imshow(tf.reshape(x_test[show],[32,32]))\n",
        "plt.show()"
      ],
      "metadata": {
        "id": "j2wUCUSfV7qt"
      },
      "execution_count": null,
      "outputs": []
    },
    {
      "cell_type": "code",
      "source": [
        "show = random.randint(0,9999)\n",
        "\n",
        "print('Predict:', np.argmax(model.predict(x_test[show])))\n",
        "print('True mask:' ,np.argmax(y_test[show]))\n",
        "\n",
        "plt.imshow(tf.reshape(x_test[show],[32,32]))\n",
        "plt.show()"
      ],
      "metadata": {
        "colab": {
          "base_uri": "https://localhost:8080/",
          "height": 318
        },
        "id": "QIWXPAisZmvZ",
        "outputId": "e54259a3-1fec-4f51-b691-ddbd46896912"
      },
      "execution_count": null,
      "outputs": [
        {
          "output_type": "stream",
          "name": "stdout",
          "text": [
            "1/1 [==============================] - 0s 57ms/step\n",
            "Predict: 44\n",
            "True mask: 57\n"
          ]
        },
        {
          "output_type": "display_data",
          "data": {
            "text/plain": [
              "<Figure size 432x288 with 1 Axes>"
            ],
            "image/png": "[encoded data removed]"
          },
          "metadata": {
            "needs_background": "light"
          }
        }
      ]
    }
  ]
}