{
  "nbformat": 4,
  "nbformat_minor": 0,
  "metadata": {
    "colab": {
      "provenance": [],
      "collapsed_sections": [],
      "authorship_tag": "ABX9TyOOvV1u+JzTyWgOfUyb7SYL",
      "include_colab_link": true
    },
    "kernelspec": {
      "name": "python3",
      "display_name": "Python 3"
    },
    "language_info": {
      "name": "python"
    }
  },
  "cells": [
    {
      "cell_type": "markdown",
      "metadata": {
        "id": "view-in-github",
        "colab_type": "text"
      },
      "source": [
        "<a href=\"https://colab.research.google.com/github/TinozgDominic/AI2022/blob/main/MLP/MLP_Cifar10.ipynb\" target=\"_parent\"><img src=\"https://colab.research.google.com/assets/colab-badge.svg\" alt=\"Open In Colab\"/></a>"
      ]
    },
    {
      "cell_type": "code",
      "execution_count": 100,
      "metadata": {
        "id": "kJIh_OHbS35Y"
      },
      "outputs": [],
      "source": [
        "import tensorflow as tf\n",
        "from keras import models\n",
        "from keras import layers\n",
        "from keras.models import Sequential\n",
        "from keras.layers import Dense, Activation, Flatten"
      ]
    },
    {
      "cell_type": "code",
      "source": [
        "from keras.datasets import cifar10"
      ],
      "metadata": {
        "id": "z0DXpSQI7g9E"
      },
      "execution_count": 101,
      "outputs": []
    },
    {
      "cell_type": "code",
      "source": [
        "(x_train, y_train), (x_test, y_test) = cifar10.load_data()\n",
        "\n",
        "print(f'Input shape: {x_train[0].shape}')\n",
        "print(f'Output shape: {y_train[0].shape}')\n",
        "print(f'Train size: {len(x_train)}')\n",
        "print(f'Test size: {len(x_test)}')"
      ],
      "metadata": {
        "colab": {
          "base_uri": "https://localhost:8080/"
        },
        "id": "_1rRulaC75Qj",
        "outputId": "6741a3dd-5ed2-42a3-c766-0c950c8259db"
      },
      "execution_count": 102,
      "outputs": [
        {
          "output_type": "stream",
          "name": "stdout",
          "text": [
            "Input shape: (32, 32, 3)\n",
            "Output shape: (1,)\n",
            "Train size: 50000\n",
            "Test size: 10000\n"
          ]
        }
      ]
    },
    {
      "cell_type": "code",
      "source": [
        "x_train = tf.image.rgb_to_grayscale(x_train)\n",
        "x_test = tf.image.rgb_to_grayscale(x_test)\n",
        "\n",
        "print(f'Input shape: {x_train[0].shape}')"
      ],
      "metadata": {
        "colab": {
          "base_uri": "https://localhost:8080/"
        },
        "id": "9RiZfnsh-p8c",
        "outputId": "e3e5c37f-2693-4f5c-cec9-6f6d466bdd28"
      },
      "execution_count": 103,
      "outputs": [
        {
          "output_type": "stream",
          "name": "stdout",
          "text": [
            "Input shape: (32, 32, 1)\n"
          ]
        }
      ]
    },
    {
      "cell_type": "code",
      "source": [
        "from keras.utils import to_categorical\n",
        "\n",
        "y_train = to_categorical(y_train)\n",
        "y_test = to_categorical(y_test)"
      ],
      "metadata": {
        "id": "vL1Da0Wh8owP"
      },
      "execution_count": 104,
      "outputs": []
    },
    {
      "cell_type": "code",
      "source": [
        "print(f'Output shape: {y_train[0].shape}')"
      ],
      "metadata": {
        "colab": {
          "base_uri": "https://localhost:8080/"
        },
        "id": "smC1Yz1b9MX0",
        "outputId": "57cee1f7-ad7f-44b2-b1c8-975d5009fc69"
      },
      "execution_count": 105,
      "outputs": [
        {
          "output_type": "stream",
          "name": "stdout",
          "text": [
            "Output shape: (10,)\n"
          ]
        }
      ]
    },
    {
      "cell_type": "code",
      "source": [
        "model = models.Sequential()\n",
        "\n",
        "model.add(Flatten(input_shape = [32,32,1]))\n",
        "model.add(layers.Dense(500, activation = 'relu'))\n",
        "model.add(layers.Dense(300, activation = 'relu'))\n",
        "model.add(layers.Dense(100, activation = 'relu'))\n",
        "model.add(layers.Dense(10, activation = 'softmax'))\n",
        "\n",
        "model.summary()\n",
        "\n",
        "model.compile(optimizer = 'adam', loss = 'categorical_crossentropy', metrics = 'accuracy')"
      ],
      "metadata": {
        "colab": {
          "base_uri": "https://localhost:8080/"
        },
        "id": "6IOwl-Jb8Bfm",
        "outputId": "09aac9a7-e5ba-43f7-e8a3-a33a22a72313"
      },
      "execution_count": 106,
      "outputs": [
        {
          "output_type": "stream",
          "name": "stdout",
          "text": [
            "Model: \"sequential_7\"\n",
            "_________________________________________________________________\n",
            " Layer (type)                Output Shape              Param #   \n",
            "=================================================================\n",
            " flatten_7 (Flatten)         (None, 1024)              0         \n",
            "                                                                 \n",
            " dense_23 (Dense)            (None, 500)               512500    \n",
            "                                                                 \n",
            " dense_24 (Dense)            (None, 300)               150300    \n",
            "                                                                 \n",
            " dense_25 (Dense)            (None, 100)               30100     \n",
            "                                                                 \n",
            " dense_26 (Dense)            (None, 10)                1010      \n",
            "                                                                 \n",
            "=================================================================\n",
            "Total params: 693,910\n",
            "Trainable params: 693,910\n",
            "Non-trainable params: 0\n",
            "_________________________________________________________________\n"
          ]
        }
      ]
    },
    {
      "cell_type": "code",
      "source": [
        "from keras.callbacks import EarlyStopping, ModelCheckpoint, ReduceLROnPlateau, Callback\n",
        "\n",
        "callbacks = [Callback(), \n",
        "            EarlyStopping(patience=21, verbose=1),\n",
        "            ReduceLROnPlateau(patience=5, verbose=1),\n",
        "            ModelCheckpoint('MLP_Cifar10.h5', verbose=1, save_best_only=True)]"
      ],
      "metadata": {
        "id": "k_ngdwmM8TAy"
      },
      "execution_count": 107,
      "outputs": []
    },
    {
      "cell_type": "code",
      "source": [
        "model.fit(x_train, y_train, epochs = 100, batch_size = 500,validation_data=(x_test, y_test), callbacks = callbacks)"
      ],
      "metadata": {
        "colab": {
          "base_uri": "https://localhost:8080/"
        },
        "id": "goOSMFxu8cY6",
        "outputId": "4384441e-3ff7-4d86-e5e4-a031112b1511"
      },
      "execution_count": 150,
      "outputs": [
        {
          "metadata": {
            "tags": null
          },
          "name": "stdout",
          "output_type": "stream",
          "text": [
            "Epoch 1/100\n",
            " 99/100 [============================>.] - ETA: 0s - loss: 1.5459 - accuracy: 0.4613\n",
            "Epoch 1: val_loss did not improve from 1.76921\n",
            "100/100 [==============================] - 4s 43ms/step - loss: 1.5454 - accuracy: 0.4613 - val_loss: 1.7709 - val_accuracy: 0.3796 - lr: 1.0000e-08\n",
            "Epoch 2/100\n",
            " 99/100 [============================>.] - ETA: 0s - loss: 1.5453 - accuracy: 0.4609\n",
            "Epoch 2: val_loss did not improve from 1.76921\n",
            "100/100 [==============================] - 4s 43ms/step - loss: 1.5454 - accuracy: 0.4613 - val_loss: 1.7709 - val_accuracy: 0.3796 - lr: 1.0000e-08\n",
            "Epoch 3/100\n",
            " 99/100 [============================>.] - ETA: 0s - loss: 1.5448 - accuracy: 0.4613\n",
            "Epoch 3: val_loss did not improve from 1.76921\n",
            "100/100 [==============================] - 4s 43ms/step - loss: 1.5454 - accuracy: 0.4613 - val_loss: 1.7709 - val_accuracy: 0.3795 - lr: 1.0000e-08\n",
            "Epoch 4/100\n",
            "100/100 [==============================] - ETA: 0s - loss: 1.5454 - accuracy: 0.4613\n",
            "Epoch 4: val_loss did not improve from 1.76921\n",
            "100/100 [==============================] - 4s 43ms/step - loss: 1.5454 - accuracy: 0.4613 - val_loss: 1.7709 - val_accuracy: 0.3795 - lr: 1.0000e-08\n",
            "Epoch 5/100\n",
            "100/100 [==============================] - ETA: 0s - loss: 1.5454 - accuracy: 0.4613\n",
            "Epoch 5: val_loss did not improve from 1.76921\n",
            "100/100 [==============================] - 4s 43ms/step - loss: 1.5454 - accuracy: 0.4613 - val_loss: 1.7709 - val_accuracy: 0.3795 - lr: 1.0000e-08\n",
            "Epoch 6/100\n",
            "100/100 [==============================] - ETA: 0s - loss: 1.5454 - accuracy: 0.4613\n",
            "Epoch 6: ReduceLROnPlateau reducing learning rate to 1.000000082740371e-09.\n",
            "\n",
            "Epoch 6: val_loss did not improve from 1.76921\n",
            "100/100 [==============================] - 4s 43ms/step - loss: 1.5454 - accuracy: 0.4613 - val_loss: 1.7709 - val_accuracy: 0.3795 - lr: 1.0000e-08\n",
            "Epoch 7/100\n",
            " 99/100 [============================>.] - ETA: 0s - loss: 1.5443 - accuracy: 0.4618\n",
            "Epoch 7: val_loss did not improve from 1.76921\n",
            "100/100 [==============================] - 4s 43ms/step - loss: 1.5454 - accuracy: 0.4612 - val_loss: 1.7709 - val_accuracy: 0.3795 - lr: 1.0000e-09\n",
            "Epoch 8/100\n",
            "100/100 [==============================] - ETA: 0s - loss: 1.5454 - accuracy: 0.4612\n",
            "Epoch 8: val_loss did not improve from 1.76921\n",
            "100/100 [==============================] - 4s 43ms/step - loss: 1.5454 - accuracy: 0.4612 - val_loss: 1.7709 - val_accuracy: 0.3795 - lr: 1.0000e-09\n",
            "Epoch 9/100\n",
            "100/100 [==============================] - ETA: 0s - loss: 1.5454 - accuracy: 0.4612\n",
            "Epoch 9: val_loss did not improve from 1.76921\n",
            "100/100 [==============================] - 4s 43ms/step - loss: 1.5454 - accuracy: 0.4612 - val_loss: 1.7709 - val_accuracy: 0.3795 - lr: 1.0000e-09\n",
            "Epoch 10/100\n",
            " 99/100 [============================>.] - ETA: 0s - loss: 1.5452 - accuracy: 0.4614\n",
            "Epoch 10: val_loss did not improve from 1.76921\n",
            "100/100 [==============================] - 4s 43ms/step - loss: 1.5454 - accuracy: 0.4612 - val_loss: 1.7709 - val_accuracy: 0.3795 - lr: 1.0000e-09\n",
            "Epoch 11/100\n",
            " 99/100 [============================>.] - ETA: 0s - loss: 1.5465 - accuracy: 0.4611\n",
            "Epoch 11: ReduceLROnPlateau reducing learning rate to 1.000000082740371e-10.\n",
            "\n",
            "Epoch 11: val_loss did not improve from 1.76921\n",
            "100/100 [==============================] - 4s 43ms/step - loss: 1.5454 - accuracy: 0.4612 - val_loss: 1.7709 - val_accuracy: 0.3795 - lr: 1.0000e-09\n",
            "Epoch 12/100\n",
            "100/100 [==============================] - ETA: 0s - loss: 1.5454 - accuracy: 0.4612\n",
            "Epoch 12: val_loss did not improve from 1.76921\n",
            "100/100 [==============================] - 4s 42ms/step - loss: 1.5454 - accuracy: 0.4612 - val_loss: 1.7709 - val_accuracy: 0.3795 - lr: 1.0000e-10\n",
            "Epoch 13/100\n",
            " 99/100 [============================>.] - ETA: 0s - loss: 1.5458 - accuracy: 0.4610\n",
            "Epoch 13: val_loss did not improve from 1.76921\n",
            "100/100 [==============================] - 4s 43ms/step - loss: 1.5454 - accuracy: 0.4612 - val_loss: 1.7709 - val_accuracy: 0.3795 - lr: 1.0000e-10\n",
            "Epoch 14/100\n",
            "100/100 [==============================] - ETA: 0s - loss: 1.5454 - accuracy: 0.4612\n",
            "Epoch 14: val_loss did not improve from 1.76921\n",
            "100/100 [==============================] - 4s 42ms/step - loss: 1.5454 - accuracy: 0.4612 - val_loss: 1.7709 - val_accuracy: 0.3795 - lr: 1.0000e-10\n",
            "Epoch 15/100\n",
            "100/100 [==============================] - ETA: 0s - loss: 1.5454 - accuracy: 0.4612\n",
            "Epoch 15: val_loss did not improve from 1.76921\n",
            "100/100 [==============================] - 5s 48ms/step - loss: 1.5454 - accuracy: 0.4612 - val_loss: 1.7709 - val_accuracy: 0.3795 - lr: 1.0000e-10\n",
            "Epoch 16/100\n",
            " 99/100 [============================>.] - ETA: 0s - loss: 1.5448 - accuracy: 0.4616\n",
            "Epoch 16: ReduceLROnPlateau reducing learning rate to 1.000000082740371e-11.\n",
            "\n",
            "Epoch 16: val_loss did not improve from 1.76921\n",
            "100/100 [==============================] - 4s 43ms/step - loss: 1.5454 - accuracy: 0.4612 - val_loss: 1.7709 - val_accuracy: 0.3795 - lr: 1.0000e-10\n",
            "Epoch 17/100\n",
            " 99/100 [============================>.] - ETA: 0s - loss: 1.5455 - accuracy: 0.4613\n",
            "Epoch 17: val_loss did not improve from 1.76921\n",
            "100/100 [==============================] - 4s 43ms/step - loss: 1.5454 - accuracy: 0.4612 - val_loss: 1.7709 - val_accuracy: 0.3795 - lr: 1.0000e-11\n",
            "Epoch 18/100\n",
            " 99/100 [============================>.] - ETA: 0s - loss: 1.5460 - accuracy: 0.4612\n",
            "Epoch 18: val_loss did not improve from 1.76921\n",
            "100/100 [==============================] - 6s 61ms/step - loss: 1.5454 - accuracy: 0.4612 - val_loss: 1.7709 - val_accuracy: 0.3795 - lr: 1.0000e-11\n",
            "Epoch 19/100\n",
            "100/100 [==============================] - ETA: 0s - loss: 1.5454 - accuracy: 0.4612\n",
            "Epoch 19: val_loss did not improve from 1.76921\n",
            "100/100 [==============================] - 4s 43ms/step - loss: 1.5454 - accuracy: 0.4612 - val_loss: 1.7709 - val_accuracy: 0.3795 - lr: 1.0000e-11\n",
            "Epoch 20/100\n",
            "100/100 [==============================] - ETA: 0s - loss: 1.5454 - accuracy: 0.4612\n",
            "Epoch 20: val_loss did not improve from 1.76921\n",
            "100/100 [==============================] - 4s 43ms/step - loss: 1.5454 - accuracy: 0.4612 - val_loss: 1.7709 - val_accuracy: 0.3795 - lr: 1.0000e-11\n",
            "Epoch 21/100\n",
            " 99/100 [============================>.] - ETA: 0s - loss: 1.5460 - accuracy: 0.4608\n",
            "Epoch 21: ReduceLROnPlateau reducing learning rate to 1.000000082740371e-12.\n",
            "\n",
            "Epoch 21: val_loss did not improve from 1.76921\n",
            "100/100 [==============================] - 4s 43ms/step - loss: 1.5454 - accuracy: 0.4612 - val_loss: 1.7709 - val_accuracy: 0.3795 - lr: 1.0000e-11\n",
            "Epoch 22/100\n",
            " 99/100 [============================>.] - ETA: 0s - loss: 1.5450 - accuracy: 0.4615\n",
            "Epoch 22: val_loss did not improve from 1.76921\n",
            "100/100 [==============================] - 4s 43ms/step - loss: 1.5454 - accuracy: 0.4612 - val_loss: 1.7709 - val_accuracy: 0.3795 - lr: 1.0000e-12\n",
            "Epoch 22: early stopping\n"
          ]
        },
        {
          "data": {
            "text/plain": [
              "<keras.callbacks.History at 0x7f5924362b50>"
            ]
          },
          "execution_count": 150,
          "metadata": {},
          "output_type": "execute_result"
        }
      ]
    },
    {
      "cell_type": "code",
      "source": [
        "classes = ('plane', 'car', 'bird', 'cat', \n",
        "           'deer', 'dog', 'frog', 'horse', 'ship', 'truck')"
      ],
      "metadata": {
        "id": "OJJHPEq-EtWf"
      },
      "execution_count": 151,
      "outputs": []
    },
    {
      "cell_type": "code",
      "source": [
        "import numpy as np\n",
        "import matplotlib.pyplot as plt\n",
        "import random\n",
        "\n",
        "show = random.randint(0,9999)\n",
        "\n",
        "print('Predict:',classes[np.argmax(model.predict(x_test[show]))])\n",
        "print('True mask:',classes[np.argmax(y_test[show])])\n",
        "\n",
        "plt.imshow(tf.reshape(x_test[show],[32,32]))\n",
        "plt.show()"
      ],
      "metadata": {
        "colab": {
          "base_uri": "https://localhost:8080/",
          "height": 318
        },
        "id": "G4hoa24JYSDC",
        "outputId": "2bee6007-b6ea-4b26-af2c-a65ba2abd487"
      },
      "execution_count": 211,
      "outputs": [
        {
          "output_type": "stream",
          "name": "stdout",
          "text": [
            "1/1 [==============================] - 0s 17ms/step\n",
            "Predict: frog\n",
            "True mask: frog\n"
          ]
        },
        {
          "output_type": "display_data",
          "data": {
            "text/plain": [
              "<Figure size 432x288 with 1 Axes>"
            ],
            "image/png": "[encoded data removed]"
          },
          "metadata": {
            "needs_background": "light"
          }
        }
      ]
    }
  ]
}